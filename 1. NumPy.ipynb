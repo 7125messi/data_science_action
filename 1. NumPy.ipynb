{
 "cells": [
  {
   "cell_type": "markdown",
   "metadata": {},
   "source": [
    "### 1.Initialization"
   ]
  },
  {
   "cell_type": "code",
   "execution_count": 79,
   "metadata": {},
   "outputs": [],
   "source": [
    "import numpy as np"
   ]
  },
  {
   "cell_type": "code",
   "execution_count": 80,
   "metadata": {},
   "outputs": [
    {
     "data": {
      "text/plain": [
       "array([0., 0., 0.])"
      ]
     },
     "execution_count": 80,
     "metadata": {},
     "output_type": "execute_result"
    }
   ],
   "source": [
    "np.zeros(3)"
   ]
  },
  {
   "cell_type": "code",
   "execution_count": 81,
   "metadata": {},
   "outputs": [
    {
     "data": {
      "text/plain": [
       "array([[0., 0., 0.],\n",
       "       [0., 0., 0.],\n",
       "       [0., 0., 0.]])"
      ]
     },
     "execution_count": 81,
     "metadata": {},
     "output_type": "execute_result"
    }
   ],
   "source": [
    "np.zeros((3,3))"
   ]
  },
  {
   "cell_type": "code",
   "execution_count": 82,
   "metadata": {},
   "outputs": [
    {
     "data": {
      "text/plain": [
       "array([[[0., 0., 0.],\n",
       "        [0., 0., 0.],\n",
       "        [0., 0., 0.]],\n",
       "\n",
       "       [[0., 0., 0.],\n",
       "        [0., 0., 0.],\n",
       "        [0., 0., 0.]],\n",
       "\n",
       "       [[0., 0., 0.],\n",
       "        [0., 0., 0.],\n",
       "        [0., 0., 0.]]])"
      ]
     },
     "execution_count": 82,
     "metadata": {},
     "output_type": "execute_result"
    }
   ],
   "source": [
    "np.zeros((3,3,3))"
   ]
  },
  {
   "cell_type": "code",
   "execution_count": 83,
   "metadata": {},
   "outputs": [
    {
     "data": {
      "text/plain": [
       "array([[[1, 1, 1, 1],\n",
       "        [1, 1, 1, 1]],\n",
       "\n",
       "       [[1, 1, 1, 1],\n",
       "        [1, 1, 1, 1]]])"
      ]
     },
     "execution_count": 83,
     "metadata": {},
     "output_type": "execute_result"
    }
   ],
   "source": [
    "np.ones((2,2,4), dtype=int)"
   ]
  },
  {
   "cell_type": "code",
   "execution_count": 84,
   "metadata": {},
   "outputs": [
    {
     "data": {
      "text/plain": [
       "array([['Curry', 'Curry'],\n",
       "       ['Curry', 'Curry']], dtype='<U5')"
      ]
     },
     "execution_count": 84,
     "metadata": {},
     "output_type": "execute_result"
    }
   ],
   "source": [
    "np.full((2,2),\"Curry\")"
   ]
  },
  {
   "cell_type": "code",
   "execution_count": 85,
   "metadata": {},
   "outputs": [
    {
     "data": {
      "text/plain": [
       "array([0.25895855, 0.39488834, 0.99142569])"
      ]
     },
     "execution_count": 85,
     "metadata": {},
     "output_type": "execute_result"
    }
   ],
   "source": [
    "np.random.rand(3)"
   ]
  },
  {
   "cell_type": "code",
   "execution_count": 86,
   "metadata": {},
   "outputs": [
    {
     "data": {
      "text/plain": [
       "array([[0.41832317, 0.26644694, 0.41392099, 0.49668239],\n",
       "       [0.41891808, 0.750813  , 0.57712065, 0.3508871 ],\n",
       "       [0.7321447 , 0.80635859, 0.48268748, 0.60653027]])"
      ]
     },
     "execution_count": 86,
     "metadata": {},
     "output_type": "execute_result"
    }
   ],
   "source": [
    "np.random.rand(3,4)"
   ]
  },
  {
   "cell_type": "code",
   "execution_count": 87,
   "metadata": {},
   "outputs": [
    {
     "data": {
      "text/plain": [
       "array([-2.03724338,  0.1527959 , -0.50388713])"
      ]
     },
     "execution_count": 87,
     "metadata": {},
     "output_type": "execute_result"
    }
   ],
   "source": [
    "np.random.randn(3)"
   ]
  },
  {
   "cell_type": "code",
   "execution_count": 88,
   "metadata": {},
   "outputs": [
    {
     "data": {
      "text/plain": [
       "array([[ 0.02143861,  0.51526565,  0.30883244,  0.63512164],\n",
       "       [ 1.14851885, -0.08385759, -1.14112302, -0.12143479],\n",
       "       [-0.94597363, -0.74126307, -0.79494079, -1.80981722]])"
      ]
     },
     "execution_count": 88,
     "metadata": {},
     "output_type": "execute_result"
    }
   ],
   "source": [
    "np.random.randn(3,4)"
   ]
  },
  {
   "cell_type": "code",
   "execution_count": 89,
   "metadata": {},
   "outputs": [
    {
     "data": {
      "text/plain": [
       "array([[7, 9, 5, 6, 5, 7, 5, 8, 7, 5],\n",
       "       [7, 9, 8, 7, 8, 5, 9, 9, 8, 9],\n",
       "       [9, 5, 8, 5, 7, 8, 5, 8, 8, 8],\n",
       "       [8, 9, 5, 5, 7, 5, 5, 8, 9, 9],\n",
       "       [6, 8, 8, 8, 6, 6, 7, 9, 9, 6],\n",
       "       [5, 8, 5, 5, 6, 7, 6, 5, 5, 6],\n",
       "       [7, 5, 5, 5, 8, 5, 9, 8, 9, 9],\n",
       "       [6, 9, 9, 9, 5, 6, 8, 5, 5, 6],\n",
       "       [8, 9, 6, 9, 6, 7, 7, 7, 9, 7],\n",
       "       [7, 8, 6, 8, 8, 8, 8, 7, 9, 8]])"
      ]
     },
     "execution_count": 89,
     "metadata": {},
     "output_type": "execute_result"
    }
   ],
   "source": [
    "np.random.randint(5,10,size=(10,10))"
   ]
  },
  {
   "cell_type": "code",
   "execution_count": 90,
   "metadata": {},
   "outputs": [
    {
     "data": {
      "text/plain": [
       "162"
      ]
     },
     "execution_count": 90,
     "metadata": {},
     "output_type": "execute_result"
    }
   ],
   "source": [
    "np.random.randint(8,200)"
   ]
  },
  {
   "cell_type": "markdown",
   "metadata": {},
   "source": [
    "### 2.Slice of NumPy "
   ]
  },
  {
   "cell_type": "code",
   "execution_count": 91,
   "metadata": {},
   "outputs": [
    {
     "data": {
      "text/plain": [
       "array([[7, 6, 8, 6, 6, 6, 7, 6, 9, 7],\n",
       "       [8, 9, 5, 6, 7, 8, 9, 9, 5, 6],\n",
       "       [5, 9, 6, 7, 5, 5, 6, 6, 8, 6],\n",
       "       [8, 7, 5, 6, 7, 9, 8, 6, 9, 9]])"
      ]
     },
     "execution_count": 91,
     "metadata": {},
     "output_type": "execute_result"
    }
   ],
   "source": [
    "data = np.random.randint(5,10,(10,10))\n",
    "data[4:8]"
   ]
  },
  {
   "cell_type": "code",
   "execution_count": 92,
   "metadata": {},
   "outputs": [
    {
     "data": {
      "text/plain": [
       "array([[6, 6],\n",
       "       [7, 8],\n",
       "       [5, 5],\n",
       "       [7, 9]])"
      ]
     },
     "execution_count": 92,
     "metadata": {},
     "output_type": "execute_result"
    }
   ],
   "source": [
    "data[4:8,4:6]"
   ]
  },
  {
   "cell_type": "code",
   "execution_count": 93,
   "metadata": {},
   "outputs": [
    {
     "data": {
      "text/plain": [
       "array([[6, 6],\n",
       "       [7, 8]])"
      ]
     },
     "execution_count": 93,
     "metadata": {},
     "output_type": "execute_result"
    }
   ],
   "source": [
    "data[4:6,4:6]"
   ]
  },
  {
   "cell_type": "markdown",
   "metadata": {},
   "source": [
    "### 3.Combine Data"
   ]
  },
  {
   "cell_type": "code",
   "execution_count": 94,
   "metadata": {},
   "outputs": [
    {
     "data": {
      "text/plain": [
       "array([[ 5, 11,  7],\n",
       "       [14,  7, 13],\n",
       "       [ 7, 12,  9],\n",
       "       [ 7,  6,  6],\n",
       "       [ 7, 14,  5]])"
      ]
     },
     "execution_count": 94,
     "metadata": {},
     "output_type": "execute_result"
    }
   ],
   "source": [
    "data1 = np.random.randint(5,15,size=(5,3))\n",
    "data1"
   ]
  },
  {
   "cell_type": "code",
   "execution_count": 95,
   "metadata": {},
   "outputs": [
    {
     "data": {
      "text/plain": [
       "array([[13, 14,  8],\n",
       "       [ 6,  5,  5],\n",
       "       [14, 10, 12],\n",
       "       [ 8, 11,  5],\n",
       "       [ 6, 10,  5]])"
      ]
     },
     "execution_count": 95,
     "metadata": {},
     "output_type": "execute_result"
    }
   ],
   "source": [
    "data2 = np.random.randint(5,15,size=(5,3))\n",
    "data2"
   ]
  },
  {
   "cell_type": "code",
   "execution_count": 96,
   "metadata": {},
   "outputs": [
    {
     "name": "stdout",
     "output_type": "stream",
     "text": [
      "[[ 5 11  7 13 14  8]\n",
      " [14  7 13  6  5  5]\n",
      " [ 7 12  9 14 10 12]\n",
      " [ 7  6  6  8 11  5]\n",
      " [ 7 14  5  6 10  5]]\n",
      "[[ 5 11  7 13 14  8]\n",
      " [14  7 13  6  5  5]\n",
      " [ 7 12  9 14 10 12]\n",
      " [ 7  6  6  8 11  5]\n",
      " [ 7 14  5  6 10  5]]\n"
     ]
    }
   ],
   "source": [
    "# 横向拼接\n",
    "print(np.hstack([data1,data2]))\n",
    "\n",
    "print(np.concatenate([data1, data2], axis=1))"
   ]
  },
  {
   "cell_type": "code",
   "execution_count": 97,
   "metadata": {},
   "outputs": [
    {
     "name": "stdout",
     "output_type": "stream",
     "text": [
      "[[ 5 11  7]\n",
      " [14  7 13]\n",
      " [ 7 12  9]\n",
      " [ 7  6  6]\n",
      " [ 7 14  5]\n",
      " [13 14  8]\n",
      " [ 6  5  5]\n",
      " [14 10 12]\n",
      " [ 8 11  5]\n",
      " [ 6 10  5]]\n",
      "[[ 5 11  7]\n",
      " [14  7 13]\n",
      " [ 7 12  9]\n",
      " [ 7  6  6]\n",
      " [ 7 14  5]\n",
      " [13 14  8]\n",
      " [ 6  5  5]\n",
      " [14 10 12]\n",
      " [ 8 11  5]\n",
      " [ 6 10  5]]\n"
     ]
    }
   ],
   "source": [
    "# 纵向拼接\n",
    "print(np.vstack([data1, data2]))\n",
    "\n",
    "print(np.concatenate([data1,data2],axis=0))"
   ]
  },
  {
   "cell_type": "code",
   "execution_count": 98,
   "metadata": {},
   "outputs": [
    {
     "data": {
      "text/plain": [
       "array([[[ 6, 14],\n",
       "        [14,  9],\n",
       "        [11,  7]],\n",
       "\n",
       "       [[ 8,  9],\n",
       "        [13, 10],\n",
       "        [13,  8]],\n",
       "\n",
       "       [[ 8,  6],\n",
       "        [10, 13],\n",
       "        [ 7, 11]],\n",
       "\n",
       "       [[ 8,  6],\n",
       "        [ 7,  6],\n",
       "        [13,  9]],\n",
       "\n",
       "       [[11, 14],\n",
       "        [ 5, 13],\n",
       "        [14, 13]]])"
      ]
     },
     "execution_count": 98,
     "metadata": {},
     "output_type": "execute_result"
    }
   ],
   "source": [
    "data1 = np.random.randint(5,15,size=(5,3,2))\n",
    "data1"
   ]
  },
  {
   "cell_type": "code",
   "execution_count": 99,
   "metadata": {},
   "outputs": [
    {
     "data": {
      "text/plain": [
       "array([[[ 9, 11],\n",
       "        [ 7,  6],\n",
       "        [ 8, 13]],\n",
       "\n",
       "       [[11,  8],\n",
       "        [13, 10],\n",
       "        [ 9, 11]],\n",
       "\n",
       "       [[13,  7],\n",
       "        [13, 14],\n",
       "        [ 9,  8]],\n",
       "\n",
       "       [[ 5,  5],\n",
       "        [14, 10],\n",
       "        [ 9, 14]],\n",
       "\n",
       "       [[ 7, 13],\n",
       "        [12, 12],\n",
       "        [ 9, 14]]])"
      ]
     },
     "execution_count": 99,
     "metadata": {},
     "output_type": "execute_result"
    }
   ],
   "source": [
    "data2 = np.random.randint(5,15,size=(5,3,2))\n",
    "data2"
   ]
  },
  {
   "cell_type": "code",
   "execution_count": 100,
   "metadata": {},
   "outputs": [
    {
     "data": {
      "text/plain": [
       "array([[[ 6, 14,  9, 11],\n",
       "        [14,  9,  7,  6],\n",
       "        [11,  7,  8, 13]],\n",
       "\n",
       "       [[ 8,  9, 11,  8],\n",
       "        [13, 10, 13, 10],\n",
       "        [13,  8,  9, 11]],\n",
       "\n",
       "       [[ 8,  6, 13,  7],\n",
       "        [10, 13, 13, 14],\n",
       "        [ 7, 11,  9,  8]],\n",
       "\n",
       "       [[ 8,  6,  5,  5],\n",
       "        [ 7,  6, 14, 10],\n",
       "        [13,  9,  9, 14]],\n",
       "\n",
       "       [[11, 14,  7, 13],\n",
       "        [ 5, 13, 12, 12],\n",
       "        [14, 13,  9, 14]]])"
      ]
     },
     "execution_count": 100,
     "metadata": {},
     "output_type": "execute_result"
    }
   ],
   "source": [
    "np.concatenate([data1, data2], axis=2)"
   ]
  },
  {
   "cell_type": "markdown",
   "metadata": {},
   "source": [
    "### 4.Splitting Data"
   ]
  },
  {
   "cell_type": "code",
   "execution_count": 101,
   "metadata": {},
   "outputs": [
    {
     "data": {
      "text/plain": [
       "array([[5, 9, 8, 7, 6, 9, 6, 5, 5, 6],\n",
       "       [7, 5, 8, 6, 5, 5, 6, 7, 6, 6],\n",
       "       [7, 7, 6, 8, 9, 5, 7, 7, 5, 7],\n",
       "       [6, 8, 9, 5, 9, 9, 6, 7, 8, 8],\n",
       "       [7, 6, 8, 6, 6, 6, 7, 6, 9, 7],\n",
       "       [8, 9, 5, 6, 7, 8, 9, 9, 5, 6],\n",
       "       [5, 9, 6, 7, 5, 5, 6, 6, 8, 6],\n",
       "       [8, 7, 5, 6, 7, 9, 8, 6, 9, 9],\n",
       "       [7, 5, 6, 6, 6, 6, 9, 6, 7, 6],\n",
       "       [5, 7, 6, 7, 5, 8, 9, 8, 5, 8]])"
      ]
     },
     "execution_count": 101,
     "metadata": {},
     "output_type": "execute_result"
    }
   ],
   "source": [
    "data"
   ]
  },
  {
   "cell_type": "code",
   "execution_count": 102,
   "metadata": {},
   "outputs": [],
   "source": [
    "a1,a2 = np.hsplit(data,[5])"
   ]
  },
  {
   "cell_type": "code",
   "execution_count": 103,
   "metadata": {},
   "outputs": [
    {
     "data": {
      "text/plain": [
       "array([[5, 9, 8, 7, 6],\n",
       "       [7, 5, 8, 6, 5],\n",
       "       [7, 7, 6, 8, 9],\n",
       "       [6, 8, 9, 5, 9],\n",
       "       [7, 6, 8, 6, 6],\n",
       "       [8, 9, 5, 6, 7],\n",
       "       [5, 9, 6, 7, 5],\n",
       "       [8, 7, 5, 6, 7],\n",
       "       [7, 5, 6, 6, 6],\n",
       "       [5, 7, 6, 7, 5]])"
      ]
     },
     "execution_count": 103,
     "metadata": {},
     "output_type": "execute_result"
    }
   ],
   "source": [
    "a1"
   ]
  },
  {
   "cell_type": "code",
   "execution_count": 104,
   "metadata": {},
   "outputs": [
    {
     "data": {
      "text/plain": [
       "array([[9, 6, 5, 5, 6],\n",
       "       [5, 6, 7, 6, 6],\n",
       "       [5, 7, 7, 5, 7],\n",
       "       [9, 6, 7, 8, 8],\n",
       "       [6, 7, 6, 9, 7],\n",
       "       [8, 9, 9, 5, 6],\n",
       "       [5, 6, 6, 8, 6],\n",
       "       [9, 8, 6, 9, 9],\n",
       "       [6, 9, 6, 7, 6],\n",
       "       [8, 9, 8, 5, 8]])"
      ]
     },
     "execution_count": 104,
     "metadata": {},
     "output_type": "execute_result"
    }
   ],
   "source": [
    "a2"
   ]
  },
  {
   "cell_type": "code",
   "execution_count": 105,
   "metadata": {},
   "outputs": [],
   "source": [
    "b1,b2,b3 = np.vsplit(data,[5,7])"
   ]
  },
  {
   "cell_type": "code",
   "execution_count": 106,
   "metadata": {},
   "outputs": [
    {
     "data": {
      "text/plain": [
       "array([[5, 9, 8, 7, 6, 9, 6, 5, 5, 6],\n",
       "       [7, 5, 8, 6, 5, 5, 6, 7, 6, 6],\n",
       "       [7, 7, 6, 8, 9, 5, 7, 7, 5, 7],\n",
       "       [6, 8, 9, 5, 9, 9, 6, 7, 8, 8],\n",
       "       [7, 6, 8, 6, 6, 6, 7, 6, 9, 7]])"
      ]
     },
     "execution_count": 106,
     "metadata": {},
     "output_type": "execute_result"
    }
   ],
   "source": [
    "b1"
   ]
  },
  {
   "cell_type": "code",
   "execution_count": 107,
   "metadata": {},
   "outputs": [
    {
     "data": {
      "text/plain": [
       "array([[8, 9, 5, 6, 7, 8, 9, 9, 5, 6],\n",
       "       [5, 9, 6, 7, 5, 5, 6, 6, 8, 6]])"
      ]
     },
     "execution_count": 107,
     "metadata": {},
     "output_type": "execute_result"
    }
   ],
   "source": [
    "b2"
   ]
  },
  {
   "cell_type": "code",
   "execution_count": 108,
   "metadata": {},
   "outputs": [
    {
     "data": {
      "text/plain": [
       "array([[8, 7, 5, 6, 7, 9, 8, 6, 9, 9],\n",
       "       [7, 5, 6, 6, 6, 6, 9, 6, 7, 6],\n",
       "       [5, 7, 6, 7, 5, 8, 9, 8, 5, 8]])"
      ]
     },
     "execution_count": 108,
     "metadata": {},
     "output_type": "execute_result"
    }
   ],
   "source": [
    "b3"
   ]
  },
  {
   "cell_type": "markdown",
   "metadata": {},
   "source": [
    "### 5.Shape, Dimension"
   ]
  },
  {
   "cell_type": "code",
   "execution_count": 109,
   "metadata": {},
   "outputs": [
    {
     "data": {
      "text/plain": [
       "(10, 10)"
      ]
     },
     "execution_count": 109,
     "metadata": {},
     "output_type": "execute_result"
    }
   ],
   "source": [
    "data.shape"
   ]
  },
  {
   "cell_type": "code",
   "execution_count": 110,
   "metadata": {},
   "outputs": [
    {
     "data": {
      "text/plain": [
       "2"
      ]
     },
     "execution_count": 110,
     "metadata": {},
     "output_type": "execute_result"
    }
   ],
   "source": [
    "data.ndim"
   ]
  },
  {
   "cell_type": "code",
   "execution_count": 111,
   "metadata": {},
   "outputs": [
    {
     "data": {
      "text/plain": [
       "100"
      ]
     },
     "execution_count": 111,
     "metadata": {},
     "output_type": "execute_result"
    }
   ],
   "source": [
    "data.size"
   ]
  },
  {
   "cell_type": "code",
   "execution_count": 112,
   "metadata": {},
   "outputs": [
    {
     "data": {
      "text/plain": [
       "array([[5, 9, 8, 7, 6, 9, 6, 5, 5, 6, 7, 5, 8, 6, 5, 5, 6, 7, 6, 6, 7, 7,\n",
       "        6, 8, 9, 5, 7, 7, 5, 7, 6, 8, 9, 5, 9, 9, 6, 7, 8, 8, 7, 6, 8, 6,\n",
       "        6, 6, 7, 6, 9, 7],\n",
       "       [8, 9, 5, 6, 7, 8, 9, 9, 5, 6, 5, 9, 6, 7, 5, 5, 6, 6, 8, 6, 8, 7,\n",
       "        5, 6, 7, 9, 8, 6, 9, 9, 7, 5, 6, 6, 6, 6, 9, 6, 7, 6, 5, 7, 6, 7,\n",
       "        5, 8, 9, 8, 5, 8]])"
      ]
     },
     "execution_count": 112,
     "metadata": {},
     "output_type": "execute_result"
    }
   ],
   "source": [
    "data.reshape(2,50)"
   ]
  },
  {
   "cell_type": "code",
   "execution_count": 113,
   "metadata": {},
   "outputs": [],
   "source": [
    "d = np.array([1,2,3,4,5,6,7,9])"
   ]
  },
  {
   "cell_type": "code",
   "execution_count": 114,
   "metadata": {},
   "outputs": [
    {
     "data": {
      "text/plain": [
       "1"
      ]
     },
     "execution_count": 114,
     "metadata": {},
     "output_type": "execute_result"
    }
   ],
   "source": [
    "d.ndim"
   ]
  },
  {
   "cell_type": "code",
   "execution_count": 115,
   "metadata": {},
   "outputs": [
    {
     "data": {
      "text/plain": [
       "(8,)"
      ]
     },
     "execution_count": 115,
     "metadata": {},
     "output_type": "execute_result"
    }
   ],
   "source": [
    "d.shape"
   ]
  },
  {
   "cell_type": "code",
   "execution_count": 116,
   "metadata": {},
   "outputs": [
    {
     "data": {
      "text/plain": [
       "8"
      ]
     },
     "execution_count": 116,
     "metadata": {},
     "output_type": "execute_result"
    }
   ],
   "source": [
    "d.size"
   ]
  },
  {
   "cell_type": "code",
   "execution_count": 117,
   "metadata": {},
   "outputs": [
    {
     "data": {
      "text/plain": [
       "array([[1],\n",
       "       [2],\n",
       "       [3],\n",
       "       [4],\n",
       "       [5],\n",
       "       [6],\n",
       "       [7],\n",
       "       [9]])"
      ]
     },
     "execution_count": 117,
     "metadata": {},
     "output_type": "execute_result"
    }
   ],
   "source": [
    "d.reshape(8,1)"
   ]
  },
  {
   "cell_type": "code",
   "execution_count": 118,
   "metadata": {},
   "outputs": [
    {
     "data": {
      "text/plain": [
       "array([[1],\n",
       "       [2],\n",
       "       [3],\n",
       "       [4],\n",
       "       [5],\n",
       "       [6],\n",
       "       [7],\n",
       "       [9]])"
      ]
     },
     "execution_count": 118,
     "metadata": {},
     "output_type": "execute_result"
    }
   ],
   "source": [
    "d.reshape(8,-1)"
   ]
  },
  {
   "cell_type": "code",
   "execution_count": 119,
   "metadata": {},
   "outputs": [
    {
     "data": {
      "text/plain": [
       "array([[5, 9, 8, 7, 6, 9, 6, 5, 5, 6, 7, 5, 8, 6, 5, 5, 6, 7, 6, 6],\n",
       "       [7, 7, 6, 8, 9, 5, 7, 7, 5, 7, 6, 8, 9, 5, 9, 9, 6, 7, 8, 8],\n",
       "       [7, 6, 8, 6, 6, 6, 7, 6, 9, 7, 8, 9, 5, 6, 7, 8, 9, 9, 5, 6],\n",
       "       [5, 9, 6, 7, 5, 5, 6, 6, 8, 6, 8, 7, 5, 6, 7, 9, 8, 6, 9, 9],\n",
       "       [7, 5, 6, 6, 6, 6, 9, 6, 7, 6, 5, 7, 6, 7, 5, 8, 9, 8, 5, 8]])"
      ]
     },
     "execution_count": 119,
     "metadata": {},
     "output_type": "execute_result"
    }
   ],
   "source": [
    "data.reshape(-1,20)"
   ]
  },
  {
   "cell_type": "markdown",
   "metadata": {},
   "source": [
    "### 6.Utility Function"
   ]
  },
  {
   "cell_type": "code",
   "execution_count": 120,
   "metadata": {},
   "outputs": [
    {
     "data": {
      "text/plain": [
       "679"
      ]
     },
     "execution_count": 120,
     "metadata": {},
     "output_type": "execute_result"
    }
   ],
   "source": [
    "np.sum(data)"
   ]
  },
  {
   "cell_type": "code",
   "execution_count": 121,
   "metadata": {},
   "outputs": [
    {
     "data": {
      "text/plain": [
       "array([66, 61, 68, 75, 68, 72, 63, 74, 64, 68])"
      ]
     },
     "execution_count": 121,
     "metadata": {},
     "output_type": "execute_result"
    }
   ],
   "source": [
    "np.sum(data, axis=1)"
   ]
  },
  {
   "cell_type": "code",
   "execution_count": 122,
   "metadata": {},
   "outputs": [
    {
     "data": {
      "text/plain": [
       "array([65, 72, 67, 64, 65, 70, 73, 67, 67, 69])"
      ]
     },
     "execution_count": 122,
     "metadata": {},
     "output_type": "execute_result"
    }
   ],
   "source": [
    "np.sum(data, axis=0)"
   ]
  },
  {
   "cell_type": "code",
   "execution_count": 123,
   "metadata": {
    "scrolled": true
   },
   "outputs": [
    {
     "data": {
      "text/plain": [
       "array([[5, 9, 8, 7, 6, 9, 6, 5, 5, 6],\n",
       "       [7, 5, 8, 6, 5, 5, 6, 7, 6, 6],\n",
       "       [7, 7, 6, 8, 9, 5, 7, 7, 5, 7],\n",
       "       [6, 8, 9, 5, 9, 9, 6, 7, 8, 8],\n",
       "       [7, 6, 8, 6, 6, 6, 7, 6, 9, 7],\n",
       "       [8, 9, 5, 6, 7, 8, 9, 9, 5, 6],\n",
       "       [5, 9, 6, 7, 5, 5, 6, 6, 8, 6],\n",
       "       [8, 7, 5, 6, 7, 9, 8, 6, 9, 9],\n",
       "       [7, 5, 6, 6, 6, 6, 9, 6, 7, 6],\n",
       "       [5, 7, 6, 7, 5, 8, 9, 8, 5, 8]])"
      ]
     },
     "execution_count": 123,
     "metadata": {},
     "output_type": "execute_result"
    }
   ],
   "source": [
    "data"
   ]
  },
  {
   "cell_type": "code",
   "execution_count": 124,
   "metadata": {},
   "outputs": [
    {
     "data": {
      "text/plain": [
       "array([[-0.95892427,  0.41211849,  0.98935825,  0.6569866 , -0.2794155 ,\n",
       "         0.41211849, -0.2794155 , -0.95892427, -0.95892427, -0.2794155 ],\n",
       "       [ 0.6569866 , -0.95892427,  0.98935825, -0.2794155 , -0.95892427,\n",
       "        -0.95892427, -0.2794155 ,  0.6569866 , -0.2794155 , -0.2794155 ],\n",
       "       [ 0.6569866 ,  0.6569866 , -0.2794155 ,  0.98935825,  0.41211849,\n",
       "        -0.95892427,  0.6569866 ,  0.6569866 , -0.95892427,  0.6569866 ],\n",
       "       [-0.2794155 ,  0.98935825,  0.41211849, -0.95892427,  0.41211849,\n",
       "         0.41211849, -0.2794155 ,  0.6569866 ,  0.98935825,  0.98935825],\n",
       "       [ 0.6569866 , -0.2794155 ,  0.98935825, -0.2794155 , -0.2794155 ,\n",
       "        -0.2794155 ,  0.6569866 , -0.2794155 ,  0.41211849,  0.6569866 ],\n",
       "       [ 0.98935825,  0.41211849, -0.95892427, -0.2794155 ,  0.6569866 ,\n",
       "         0.98935825,  0.41211849,  0.41211849, -0.95892427, -0.2794155 ],\n",
       "       [-0.95892427,  0.41211849, -0.2794155 ,  0.6569866 , -0.95892427,\n",
       "        -0.95892427, -0.2794155 , -0.2794155 ,  0.98935825, -0.2794155 ],\n",
       "       [ 0.98935825,  0.6569866 , -0.95892427, -0.2794155 ,  0.6569866 ,\n",
       "         0.41211849,  0.98935825, -0.2794155 ,  0.41211849,  0.41211849],\n",
       "       [ 0.6569866 , -0.95892427, -0.2794155 , -0.2794155 , -0.2794155 ,\n",
       "        -0.2794155 ,  0.41211849, -0.2794155 ,  0.6569866 , -0.2794155 ],\n",
       "       [-0.95892427,  0.6569866 , -0.2794155 ,  0.6569866 , -0.95892427,\n",
       "         0.98935825,  0.41211849,  0.98935825, -0.95892427,  0.98935825]])"
      ]
     },
     "execution_count": 124,
     "metadata": {},
     "output_type": "execute_result"
    }
   ],
   "source": [
    "np.sin(data)"
   ]
  },
  {
   "cell_type": "code",
   "execution_count": 125,
   "metadata": {},
   "outputs": [
    {
     "data": {
      "text/plain": [
       "array([[5, 7, 7, 6, 7, 8, 5, 8, 7, 5],\n",
       "       [9, 5, 7, 8, 6, 9, 9, 7, 5, 7],\n",
       "       [8, 8, 6, 9, 8, 5, 6, 5, 6, 6],\n",
       "       [7, 6, 8, 5, 6, 6, 7, 6, 6, 7],\n",
       "       [6, 5, 9, 9, 6, 7, 5, 7, 6, 5],\n",
       "       [9, 5, 5, 9, 6, 8, 5, 9, 6, 8],\n",
       "       [6, 6, 7, 6, 7, 9, 6, 8, 9, 9],\n",
       "       [5, 7, 7, 7, 6, 9, 6, 6, 6, 8],\n",
       "       [5, 6, 5, 8, 9, 5, 8, 9, 7, 5],\n",
       "       [6, 6, 7, 8, 7, 6, 6, 9, 6, 8]])"
      ]
     },
     "execution_count": 125,
     "metadata": {},
     "output_type": "execute_result"
    }
   ],
   "source": [
    "data.T"
   ]
  },
  {
   "cell_type": "code",
   "execution_count": 126,
   "metadata": {},
   "outputs": [
    {
     "data": {
      "text/plain": [
       "array([6.6, 6.1, 6.8, 7.5, 6.8, 7.2, 6.3, 7.4, 6.4, 6.8])"
      ]
     },
     "execution_count": 126,
     "metadata": {},
     "output_type": "execute_result"
    }
   ],
   "source": [
    "data.mean(axis=1)"
   ]
  },
  {
   "cell_type": "code",
   "execution_count": 127,
   "metadata": {},
   "outputs": [
    {
     "data": {
      "text/plain": [
       "array([1.49666295, 0.94339811, 1.16619038, 1.36014705, 0.9797959 ,\n",
       "       1.53622915, 1.26885775, 1.356466  , 1.0198039 , 1.4       ])"
      ]
     },
     "execution_count": 127,
     "metadata": {},
     "output_type": "execute_result"
    }
   ],
   "source": [
    "data.std(axis=1)"
   ]
  },
  {
   "cell_type": "markdown",
   "metadata": {},
   "source": [
    "### 7.Broadcasting"
   ]
  },
  {
   "cell_type": "code",
   "execution_count": 128,
   "metadata": {},
   "outputs": [],
   "source": [
    "v = np.array([1,2,3,4,5])"
   ]
  },
  {
   "cell_type": "code",
   "execution_count": 129,
   "metadata": {},
   "outputs": [],
   "source": [
    "s = 10"
   ]
  },
  {
   "cell_type": "code",
   "execution_count": 130,
   "metadata": {},
   "outputs": [
    {
     "data": {
      "text/plain": [
       "array([11, 12, 13, 14, 15])"
      ]
     },
     "execution_count": 130,
     "metadata": {},
     "output_type": "execute_result"
    }
   ],
   "source": [
    "v+s"
   ]
  },
  {
   "cell_type": "code",
   "execution_count": 131,
   "metadata": {},
   "outputs": [],
   "source": [
    "a = np.array([[1],[2],[3],[4],[5]])"
   ]
  },
  {
   "cell_type": "code",
   "execution_count": 132,
   "metadata": {},
   "outputs": [
    {
     "data": {
      "text/plain": [
       "(5, 1)"
      ]
     },
     "execution_count": 132,
     "metadata": {},
     "output_type": "execute_result"
    }
   ],
   "source": [
    "a.shape"
   ]
  },
  {
   "cell_type": "code",
   "execution_count": 133,
   "metadata": {
    "scrolled": true
   },
   "outputs": [
    {
     "data": {
      "text/plain": [
       "array([[ 2,  3,  4,  5,  6],\n",
       "       [ 3,  4,  5,  6,  7],\n",
       "       [ 4,  5,  6,  7,  8],\n",
       "       [ 5,  6,  7,  8,  9],\n",
       "       [ 6,  7,  8,  9, 10]])"
      ]
     },
     "execution_count": 133,
     "metadata": {},
     "output_type": "execute_result"
    }
   ],
   "source": [
    "a + v"
   ]
  }
 ],
 "metadata": {
  "kernelspec": {
   "display_name": "Python [default]",
   "language": "python",
   "name": "python3"
  },
  "language_info": {
   "codemirror_mode": {
    "name": "ipython",
    "version": 3
   },
   "file_extension": ".py",
   "mimetype": "text/x-python",
   "name": "python",
   "nbconvert_exporter": "python",
   "pygments_lexer": "ipython3",
   "version": "3.5.5"
  }
 },
 "nbformat": 4,
 "nbformat_minor": 2
}
